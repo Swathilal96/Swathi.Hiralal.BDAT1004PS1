{
 "cells": [
  {
   "cell_type": "markdown",
   "id": "a9862450",
   "metadata": {},
   "source": [
    "## Question 1"
   ]
  },
  {
   "cell_type": "code",
   "execution_count": 2,
   "id": "f45ae735",
   "metadata": {},
   "outputs": [
    {
     "name": "stdout",
     "output_type": "stream",
     "text": [
      "5\n",
      "5.0\n",
      "True\n",
      "5\n",
      "10\n",
      "55\n",
      "52\n",
      "2.5\n",
      "1\n",
      "{1, 2, 5}\n",
      "False\n",
      "3.141592653589793\n"
     ]
    }
   ],
   "source": [
    "print(5) #The type is int/numbers\n",
    "print(5.0) #The type is float\n",
    "print(5>1) #The type boolena\n",
    "print('5') #The type is string\n",
    "print(5*2) #The type is int/numbers\n",
    "print('5' * 2) #The type is string\n",
    "print('5' + '2') #The type is string\n",
    "print(5/2) #The type is float\n",
    "print(5%2) #The type is int/numbers\n",
    "print({5, 2, 1}) #The type is set\n",
    "print(5 == 3) #The type is boolean\n",
    "\n",
    "import math\n",
    "print (math.pi) #The type is float"
   ]
  },
  {
   "cell_type": "markdown",
   "id": "7f39b766",
   "metadata": {},
   "source": [
    "## Question 2\n",
    "### a"
   ]
  },
  {
   "cell_type": "code",
   "execution_count": 1,
   "id": "61f95ac1",
   "metadata": {},
   "outputs": [
    {
     "name": "stdout",
     "output_type": "stream",
     "text": [
      "34\n"
     ]
    }
   ],
   "source": [
    "x = 'Supercalifragilisticexpialidocious'\n",
    "print(len(x))"
   ]
  },
  {
   "cell_type": "markdown",
   "id": "923232fd",
   "metadata": {},
   "source": [
    "## Question 2\n",
    "### b"
   ]
  },
  {
   "cell_type": "code",
   "execution_count": 2,
   "id": "0ea11632",
   "metadata": {},
   "outputs": [
    {
     "name": "stdout",
     "output_type": "stream",
     "text": [
      "True\n"
     ]
    }
   ],
   "source": [
    "x ='Supercalifragilisticexpialidocious'\n",
    "print('ice' in x)"
   ]
  },
  {
   "cell_type": "markdown",
   "id": "2df64aba",
   "metadata": {},
   "source": [
    "## Question 2\n",
    "### c"
   ]
  },
  {
   "cell_type": "code",
   "execution_count": 3,
   "id": "1d631c04",
   "metadata": {},
   "outputs": [
    {
     "name": "stdout",
     "output_type": "stream",
     "text": [
      "The longest word is: Bababadalgharaghtakamminarronnkonn\n"
     ]
    }
   ],
   "source": [
    "string1 = \"Supercalifragilisticexpialidocious\"\n",
    "string2 = \"Honorificabilitudinitatibus\"\n",
    "string3 = \"Bababadalgharaghtakamminarronnkonn\"\n",
    "\n",
    "if len(string1) > len(string2) and len(string1) > len(string3):\n",
    "    longest_word = string1\n",
    "elif len(string2) > len(string3):\n",
    "    longest_word = string2\n",
    "else:\n",
    "    longest_word = string3\n",
    "    \n",
    "print(\"The longest word is:\", longest_word)"
   ]
  },
  {
   "cell_type": "markdown",
   "id": "d1348b85",
   "metadata": {},
   "source": [
    "## Question 2\n",
    "### d"
   ]
  },
  {
   "cell_type": "code",
   "execution_count": 5,
   "id": "060274fa",
   "metadata": {},
   "outputs": [
    {
     "name": "stdout",
     "output_type": "stream",
     "text": [
      "The composer that comes last is: Buxtehude\n",
      "The composer that comes first is: Bartok\n"
     ]
    }
   ],
   "source": [
    "lst =('Berlioz','Borodin','Brian','Bartok','Bellini','Buxtehude','Bernstein')\n",
    "x = max(lst)\n",
    "y = min(lst)\n",
    "print(\"The composer that comes last is:\",x)\n",
    "print(\"The composer that comes first is:\",y)"
   ]
  },
  {
   "cell_type": "markdown",
   "id": "ebb842e3",
   "metadata": {},
   "source": [
    "## Question 3"
   ]
  },
  {
   "cell_type": "code",
   "execution_count": 3,
   "id": "5bda4158",
   "metadata": {},
   "outputs": [
    {
     "name": "stdout",
     "output_type": "stream",
     "text": [
      "1.7320508075688772\n"
     ]
    }
   ],
   "source": [
    "import math\n",
    "\n",
    "def triangleArea(a , b , c):\n",
    "\ts = (a + b + c)/2\n",
    "\tarea = math.sqrt(s * (s -a) * (s - b) * (s - c))\n",
    "\tprint(area)\n",
    "triangleArea(2, 2, 2)\n"
   ]
  },
  {
   "cell_type": "markdown",
   "id": "c69a81f6",
   "metadata": {},
   "source": [
    "## Question 4"
   ]
  },
  {
   "cell_type": "code",
   "execution_count": 16,
   "id": "6c836303",
   "metadata": {},
   "outputs": [
    {
     "name": "stdout",
     "output_type": "stream",
     "text": [
      "Input the number of elements to be stored in the array: 5\n",
      "element - 0 : 25\n",
      "element - 1 : 47\n",
      "element - 2 : 42\n",
      "element - 3 : 56\n",
      "element - 4 : 32\n",
      "The odd numbers are: [25, 47]\n",
      "The even numbers are: [42, 56, 32]\n"
     ]
    }
   ],
   "source": [
    "def separate_odd_even(numbers):\n",
    "    odd_lst = []\n",
    "    even_lst = []\n",
    "    for num in numbers:\n",
    "        if num % 2 == 0:\n",
    "            even_lst.append(num)\n",
    "        else:\n",
    "            odd_lst.append(num)\n",
    "    return odd_lst, even_lst\n",
    "num_elements = int(input(\"Input the number of elements to be stored in the array: \"))\n",
    "elements = []\n",
    "for index in range(num_elements):\n",
    "    element = int(input(f\"element - {index} : \"))\n",
    "    elements.append(element)\n",
    "odd_nums, even_nums = separate_odd_even(elements)\n",
    "print(\"The odd numbers are:\", odd_nums)\n",
    "print(\"The even numbers are:\", even_nums)"
   ]
  },
  {
   "cell_type": "markdown",
   "id": "d4ed5243",
   "metadata": {},
   "source": [
    "## Question 5\n",
    "### a"
   ]
  },
  {
   "cell_type": "code",
   "execution_count": 4,
   "id": "1ce96a9c",
   "metadata": {},
   "outputs": [
    {
     "name": "stdout",
     "output_type": "stream",
     "text": [
      "True\n",
      "False\n"
     ]
    }
   ],
   "source": [
    "def inside(x , y , x1 , y1 , x2 , y2):\n",
    "\tif x1 <= x <= x2 and y1 <= y <= y2:\n",
    "\t\tprint(\"True\")\n",
    "\telse:\n",
    "\t\tprint(\"False\")\n",
    "inside(1, 1, 0, 0, 2, 3)\n",
    "inside(-1, -1, 0, 0, 2, 3)"
   ]
  },
  {
   "cell_type": "markdown",
   "id": "03be7261",
   "metadata": {},
   "source": [
    "## Question 5\n",
    "### b"
   ]
  },
  {
   "cell_type": "code",
   "execution_count": 5,
   "id": "347662d2",
   "metadata": {},
   "outputs": [
    {
     "name": "stdout",
     "output_type": "stream",
     "text": [
      "Point does not lie in both rectangles\n"
     ]
    }
   ],
   "source": [
    "def inside(x, y, x1, y1, x2, y2):\n",
    "\tif x1 <= x <= x2 and y1 <= y <= y2:\n",
    "\t\treturn True\n",
    "\telse:\n",
    "\t\treturn False\n",
    "firstrectangle = inside(1, 1, 0.3, 0.5, 1.1, 0.7)\n",
    "secondrectangle = inside(1, 1, 0.5, 0.2, 1.1, 2)\n",
    "\n",
    "if firstrectangle and secondrectangle:\n",
    "\tprint(\"Point lies in both rectangles\")\n",
    "else:\n",
    "\tprint(\"Point does not lie in both rectangles\")"
   ]
  },
  {
   "cell_type": "markdown",
   "id": "512f9f3c",
   "metadata": {},
   "source": [
    "## Question 6"
   ]
  },
  {
   "cell_type": "code",
   "execution_count": 6,
   "id": "59933dd9",
   "metadata": {},
   "outputs": [
    {
     "name": "stdout",
     "output_type": "stream",
     "text": [
      "iceway\n",
      "appyhay\n"
     ]
    }
   ],
   "source": [
    "def pig(phrase):\n",
    "    vowels = ['a', 'e', 'i', 'o', 'u']\n",
    "    phrase = str.lower(phrase)  \n",
    "\n",
    "    if phrase[0] in vowels:\n",
    "        pig_latin = phrase + 'way'\n",
    "    else:\n",
    "        pig_latin = phrase[1:] + phrase[0] + 'ay'\n",
    "    return pig_latin\n",
    "print(pig('ICE'))\n",
    "print(pig('happy'))"
   ]
  },
  {
   "cell_type": "markdown",
   "id": "6b33e8d2",
   "metadata": {},
   "source": [
    "## Question 7"
   ]
  },
  {
   "cell_type": "code",
   "execution_count": 15,
   "id": "717fdbae",
   "metadata": {},
   "outputs": [
    {
     "name": "stdout",
     "output_type": "stream",
     "text": [
      "Blood Type A: 15 patients\n",
      "Blood Type B: 1 patients\n",
      "Blood Type AB: 13 patients\n",
      "Blood Type O: 15 patients\n",
      "Blood Type OO: 0 patients\n"
     ]
    }
   ],
   "source": [
    "def bldcount(name):\n",
    "    blood_types = ['A', 'B', 'AB', 'O', 'OO']\n",
    "    count = [0] * 5\n",
    "    readfile = open(name, 'r')\n",
    "    infile = readfile.read()\t\n",
    "    for blood_type in infile.split():\n",
    "            #print(blood_type)\n",
    "            if blood_type == 'A':\n",
    "                count[0] += 1\n",
    "            elif blood_type == 'B':\n",
    "                count[1] += 1\n",
    "            elif blood_type == 'AB':\n",
    "                count[2] += 1\n",
    "            elif blood_type == 'O':\n",
    "                count[3] += 1\n",
    "            elif blood_type == 'OO':\n",
    "                count[4] += 1\n",
    "    readfile.close()\n",
    "    print(f\"Blood Type {blood_types[0]}: {count[0]} patients\")\n",
    "    print(f\"Blood Type {blood_types[1]}: {count[1]} patients\")\n",
    "    print(f\"Blood Type {blood_types[2]}: {count[2]} patients\")\n",
    "    print(f\"Blood Type {blood_types[3]}: {count[3]} patients\")\n",
    "    print(f\"Blood Type {blood_types[4]}: {count[4]} patients\")\n",
    "bldcount(\"bloodtype1.txt\")"
   ]
  },
  {
   "cell_type": "markdown",
   "id": "aaeb4119",
   "metadata": {},
   "source": [
    "## Question 8"
   ]
  },
  {
   "cell_type": "code",
   "execution_count": 17,
   "id": "528e6f2f",
   "metadata": {},
   "outputs": [
    {
     "name": "stdout",
     "output_type": "stream",
     "text": [
      "1.241401\n"
     ]
    }
   ],
   "source": [
    "def curconv(currency,amount):\n",
    "    \n",
    "    conversion_file = open(\"currencies.txt\",\"r\")\n",
    "    currency_list = conversion_file.readlines()\n",
    "    conversion_rate = 0\n",
    "    for currency_conversion in currency_list:\n",
    "        currency_details = currency_conversion.split()\n",
    "        if currency_details[0] == currency:\n",
    "            conversion_rate = float(currency_details[1])\n",
    "            \n",
    "    converted_amount = amount*conversion_rate\n",
    "    \n",
    "    return converted_amount\n",
    "\n",
    "currency = 'JPY'\n",
    "amount = 100\n",
    "converted_amount = curconv(currency,amount)\n",
    "print(converted_amount)"
   ]
  },
  {
   "cell_type": "markdown",
   "id": "cdfd7623",
   "metadata": {},
   "source": [
    "## Question 9"
   ]
  },
  {
   "cell_type": "code",
   "execution_count": 8,
   "id": "6728eda3",
   "metadata": {},
   "outputs": [
    {
     "ename": "TypeError",
     "evalue": "unsupported operand type(s) for +: 'int' and 'str'",
     "output_type": "error",
     "traceback": [
      "\u001b[0;31m---------------------------------------------------------------------------\u001b[0m",
      "\u001b[0;31mTypeError\u001b[0m                                 Traceback (most recent call last)",
      "Cell \u001b[0;32mIn[8], line 1\u001b[0m\n\u001b[0;32m----> 1\u001b[0m \u001b[38;5;28mprint\u001b[39m (\u001b[38;5;241;43m5\u001b[39;49m\u001b[43m \u001b[49m\u001b[38;5;241;43m+\u001b[39;49m\u001b[43m \u001b[49m\u001b[38;5;124;43m'\u001b[39;49m\u001b[38;5;124;43m2\u001b[39;49m\u001b[38;5;124;43m'\u001b[39;49m)\n",
      "\u001b[0;31mTypeError\u001b[0m: unsupported operand type(s) for +: 'int' and 'str'"
     ]
    }
   ],
   "source": [
    "print (5 + '2') #Trying to add incompatible variables"
   ]
  },
  {
   "cell_type": "code",
   "execution_count": 9,
   "id": "21ee98a5",
   "metadata": {},
   "outputs": [
    {
     "ename": "IndexError",
     "evalue": "list index out of range",
     "output_type": "error",
     "traceback": [
      "\u001b[0;31m---------------------------------------------------------------------------\u001b[0m",
      "\u001b[0;31mIndexError\u001b[0m                                Traceback (most recent call last)",
      "Cell \u001b[0;32mIn[9], line 2\u001b[0m\n\u001b[1;32m      1\u001b[0m lst \u001b[38;5;241m=\u001b[39m [\u001b[38;5;241m1\u001b[39m,\u001b[38;5;241m2\u001b[39m,\u001b[38;5;241m3\u001b[39m,\u001b[38;5;241m4\u001b[39m,\u001b[38;5;241m5\u001b[39m,\u001b[38;5;241m6\u001b[39m,\u001b[38;5;241m7\u001b[39m,\u001b[38;5;241m8\u001b[39m,\u001b[38;5;241m9\u001b[39m,\u001b[38;5;124m'\u001b[39m\u001b[38;5;124ma\u001b[39m\u001b[38;5;124m'\u001b[39m,\u001b[38;5;124m'\u001b[39m\u001b[38;5;124mb\u001b[39m\u001b[38;5;124m'\u001b[39m,\u001b[38;5;124m'\u001b[39m\u001b[38;5;124mc\u001b[39m\u001b[38;5;124m'\u001b[39m] \u001b[38;5;66;03m#Referring to the 12th item of a list that has only 10 items\u001b[39;00m\n\u001b[0;32m----> 2\u001b[0m \u001b[38;5;28mprint\u001b[39m(\u001b[43mlst\u001b[49m\u001b[43m[\u001b[49m\u001b[38;5;241;43m12\u001b[39;49m\u001b[43m]\u001b[49m)\n",
      "\u001b[0;31mIndexError\u001b[0m: list index out of range"
     ]
    }
   ],
   "source": [
    "lst = [1,2,3,4,5,6,7,8,9,'a','b','c'] #Referring to the 12th item of a list that has only 10 items\n",
    "print(lst[12])"
   ]
  },
  {
   "cell_type": "code",
   "execution_count": 10,
   "id": "64521e6c",
   "metadata": {},
   "outputs": [
    {
     "ename": "ValueError",
     "evalue": "math domain error",
     "output_type": "error",
     "traceback": [
      "\u001b[0;31m---------------------------------------------------------------------------\u001b[0m",
      "\u001b[0;31mValueError\u001b[0m                                Traceback (most recent call last)",
      "Cell \u001b[0;32mIn[10], line 2\u001b[0m\n\u001b[1;32m      1\u001b[0m \u001b[38;5;28;01mimport\u001b[39;00m \u001b[38;5;21;01mmath\u001b[39;00m\n\u001b[0;32m----> 2\u001b[0m \u001b[38;5;28mprint\u001b[39m(\u001b[43mmath\u001b[49m\u001b[38;5;241;43m.\u001b[39;49m\u001b[43msqrt\u001b[49m\u001b[43m(\u001b[49m\u001b[38;5;241;43m-\u001b[39;49m\u001b[38;5;241;43m2.0\u001b[39;49m\u001b[43m)\u001b[49m)\n",
      "\u001b[0;31mValueError\u001b[0m: math domain error"
     ]
    }
   ],
   "source": [
    "import math\n",
    "print(math.sqrt(-2.0)) #Using a value that is out of range for a function’s input"
   ]
  },
  {
   "cell_type": "code",
   "execution_count": 11,
   "id": "96c69075",
   "metadata": {},
   "outputs": [
    {
     "ename": "NameError",
     "evalue": "name 'y' is not defined",
     "output_type": "error",
     "traceback": [
      "\u001b[0;31m---------------------------------------------------------------------------\u001b[0m",
      "\u001b[0;31mNameError\u001b[0m                                 Traceback (most recent call last)",
      "Cell \u001b[0;32mIn[11], line 2\u001b[0m\n\u001b[1;32m      1\u001b[0m x \u001b[38;5;241m=\u001b[39m \u001b[38;5;241m2\u001b[39m\n\u001b[0;32m----> 2\u001b[0m \u001b[38;5;28mprint\u001b[39m (\u001b[43my\u001b[49m)\n",
      "\u001b[0;31mNameError\u001b[0m: name 'y' is not defined"
     ]
    }
   ],
   "source": [
    "x = 2\n",
    "print (y) #Using an undeclared variable"
   ]
  },
  {
   "cell_type": "code",
   "execution_count": 12,
   "id": "2a78f979",
   "metadata": {},
   "outputs": [
    {
     "ename": "FileNotFoundError",
     "evalue": "[Errno 2] No such file or directory: 'bloodtype2.txt'",
     "output_type": "error",
     "traceback": [
      "\u001b[0;31m---------------------------------------------------------------------------\u001b[0m",
      "\u001b[0;31mFileNotFoundError\u001b[0m                         Traceback (most recent call last)",
      "Cell \u001b[0;32mIn[12], line 1\u001b[0m\n\u001b[0;32m----> 1\u001b[0m infile \u001b[38;5;241m=\u001b[39m \u001b[38;5;28;43mopen\u001b[39;49m\u001b[43m(\u001b[49m\u001b[38;5;124;43m\"\u001b[39;49m\u001b[38;5;124;43mbloodtype2.txt\u001b[39;49m\u001b[38;5;124;43m\"\u001b[39;49m\u001b[43m,\u001b[49m\u001b[43m \u001b[49m\u001b[38;5;124;43m'\u001b[39;49m\u001b[38;5;124;43mr\u001b[39;49m\u001b[38;5;124;43m'\u001b[39;49m\u001b[43m)\u001b[49m\n",
      "File \u001b[0;32m~/anaconda3/lib/python3.10/site-packages/IPython/core/interactiveshell.py:282\u001b[0m, in \u001b[0;36m_modified_open\u001b[0;34m(file, *args, **kwargs)\u001b[0m\n\u001b[1;32m    275\u001b[0m \u001b[38;5;28;01mif\u001b[39;00m file \u001b[38;5;129;01min\u001b[39;00m {\u001b[38;5;241m0\u001b[39m, \u001b[38;5;241m1\u001b[39m, \u001b[38;5;241m2\u001b[39m}:\n\u001b[1;32m    276\u001b[0m     \u001b[38;5;28;01mraise\u001b[39;00m \u001b[38;5;167;01mValueError\u001b[39;00m(\n\u001b[1;32m    277\u001b[0m         \u001b[38;5;124mf\u001b[39m\u001b[38;5;124m\"\u001b[39m\u001b[38;5;124mIPython won\u001b[39m\u001b[38;5;124m'\u001b[39m\u001b[38;5;124mt let you open fd=\u001b[39m\u001b[38;5;132;01m{\u001b[39;00mfile\u001b[38;5;132;01m}\u001b[39;00m\u001b[38;5;124m by default \u001b[39m\u001b[38;5;124m\"\u001b[39m\n\u001b[1;32m    278\u001b[0m         \u001b[38;5;124m\"\u001b[39m\u001b[38;5;124mas it is likely to crash IPython. If you know what you are doing, \u001b[39m\u001b[38;5;124m\"\u001b[39m\n\u001b[1;32m    279\u001b[0m         \u001b[38;5;124m\"\u001b[39m\u001b[38;5;124myou can use builtins\u001b[39m\u001b[38;5;124m'\u001b[39m\u001b[38;5;124m open.\u001b[39m\u001b[38;5;124m\"\u001b[39m\n\u001b[1;32m    280\u001b[0m     )\n\u001b[0;32m--> 282\u001b[0m \u001b[38;5;28;01mreturn\u001b[39;00m \u001b[43mio_open\u001b[49m\u001b[43m(\u001b[49m\u001b[43mfile\u001b[49m\u001b[43m,\u001b[49m\u001b[43m \u001b[49m\u001b[38;5;241;43m*\u001b[39;49m\u001b[43margs\u001b[49m\u001b[43m,\u001b[49m\u001b[43m \u001b[49m\u001b[38;5;241;43m*\u001b[39;49m\u001b[38;5;241;43m*\u001b[39;49m\u001b[43mkwargs\u001b[49m\u001b[43m)\u001b[49m\n",
      "\u001b[0;31mFileNotFoundError\u001b[0m: [Errno 2] No such file or directory: 'bloodtype2.txt'"
     ]
    }
   ],
   "source": [
    "infile = open(\"bloodtype2.txt\", 'r') #Trying to open a file that does not exist"
   ]
  },
  {
   "cell_type": "markdown",
   "id": "f9bf0f65",
   "metadata": {},
   "source": [
    "## Question 10"
   ]
  },
  {
   "cell_type": "code",
   "execution_count": 13,
   "id": "34741b94",
   "metadata": {},
   "outputs": [
    {
     "name": "stdout",
     "output_type": "stream",
     "text": [
      "[1, 0, 0, 0, 0, 0, 0, 1, 1, 0, 0, 0, 0, 0, 0, 0, 0, 0, 0, 1, 0, 0, 1, 0, 0, 0]\n"
     ]
    }
   ],
   "source": [
    "def frequencies(string):\n",
    "    letters = 'abcdefghijklmnopqrstuvwxyz'\n",
    "    frequency = [0] * 26\n",
    "\n",
    "    for alphabet in string:\n",
    "        if alphabet in letters:\n",
    "            index = letters.index(alphabet)\n",
    "            frequency[index] += 1\n",
    "\n",
    "    return frequency\n",
    "\n",
    "Encryption = frequencies(\"Swathi!\")\n",
    "print(Encryption)"
   ]
  },
  {
   "cell_type": "code",
   "execution_count": null,
   "id": "abe7f3b2",
   "metadata": {},
   "outputs": [],
   "source": []
  }
 ],
 "metadata": {
  "kernelspec": {
   "display_name": "Python 3 (ipykernel)",
   "language": "python",
   "name": "python3"
  },
  "language_info": {
   "codemirror_mode": {
    "name": "ipython",
    "version": 3
   },
   "file_extension": ".py",
   "mimetype": "text/x-python",
   "name": "python",
   "nbconvert_exporter": "python",
   "pygments_lexer": "ipython3",
   "version": "3.10.9"
  }
 },
 "nbformat": 4,
 "nbformat_minor": 5
}
